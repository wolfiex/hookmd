{
 "cells": [
  {
   "cell_type": "code",
   "execution_count": 16,
   "metadata": {},
   "outputs": [],
   "source": [
    "import glob\n",
    "import pandas as pd\n",
    "__data__='./hookfiles_u-ce220unknown_date'"
   ]
  },
  {
   "cell_type": "code",
   "execution_count": 2,
   "metadata": {},
   "outputs": [],
   "source": [
    "import hookpanel as hp\n",
    "import grid"
   ]
  },
  {
   "cell_type": "code",
   "execution_count": 3,
   "metadata": {},
   "outputs": [
    {
     "data": {
      "text/plain": [
       "['./hookfiles_u-ce220unknown_date/19790301T0000Z/atmos_main',\n",
       " './hookfiles_u-ce220unknown_date/19790201T0000Z/atmos_main',\n",
       " './hookfiles_u-ce220unknown_date/19790101T0000Z/atmos_main']"
      ]
     },
     "execution_count": 3,
     "metadata": {},
     "output_type": "execute_result"
    }
   ],
   "source": [
    "files = glob.glob(__data__+'/*/atmos_main')\n",
    "files"
   ]
  },
  {
   "cell_type": "code",
   "execution_count": 4,
   "metadata": {},
   "outputs": [
    {
     "name": "stdout",
     "output_type": "stream",
     "text": [
      "./hookfiles_u-ce220unknown_date/19790301T0000Z/atmos_main/*drhook.prof.*\n",
      "Time taken to create panel 0.15s\n",
      "./hookfiles_u-ce220unknown_date/19790201T0000Z/atmos_main/*drhook.prof.*\n",
      "Time taken to create panel 0.14s\n",
      "./hookfiles_u-ce220unknown_date/19790101T0000Z/atmos_main/*drhook.prof.*\n",
      "Time taken to create panel 0.13s\n"
     ]
    }
   ],
   "source": [
    "cycles = [hp.HookPanel(i+'/*') for i in files]\n",
    "# parallel"
   ]
  },
  {
   "cell_type": "code",
   "execution_count": 5,
   "metadata": {},
   "outputs": [
    {
     "data": {
      "text/plain": [
       "array([[  1,   2,   3, ..., 502, 503, 504],\n",
       "       [  0,  21,  42, ..., 441, 462, 483],\n",
       "       [ 21,  42,  63, ..., 462, 483, 504],\n",
       "       ...,\n",
       "       [  7,   7,   7, ..., 144, 144, 144],\n",
       "       [ 10,  31,  52, ..., 451, 472, 493],\n",
       "       [  3,   3,   3, ..., 141, 141, 141]], dtype=int32)"
      ]
     },
     "execution_count": 5,
     "metadata": {},
     "output_type": "execute_result"
    }
   ],
   "source": [
    "mapping = grid.get_decomp(__data__)\n",
    "mapping"
   ]
  },
  {
   "cell_type": "markdown",
   "metadata": {},
   "source": [
    "maping 3:4    proc i \n",
    "mapping 1:2   proc i\n"
   ]
  },
  {
   "cell_type": "code",
   "execution_count": 6,
   "metadata": {},
   "outputs": [
    {
     "data": {
      "text/plain": [
       "matrix([[504],\n",
       "        [483],\n",
       "        [504],\n",
       "        [138],\n",
       "        [144],\n",
       "        [493],\n",
       "        [141]], dtype=int32)"
      ]
     },
     "execution_count": 6,
     "metadata": {},
     "output_type": "execute_result"
    }
   ],
   "source": [
    "import numpy as np\n",
    "np.matrix(mapping).max(axis=1)"
   ]
  },
  {
   "cell_type": "code",
   "execution_count": 41,
   "metadata": {},
   "outputs": [],
   "source": [
    "lat = list(mapping[-1])\n",
    "lat /= max(lat)\n",
    "lat *= 180\n",
    "lat -= 90\n",
    "lat = dict(zip(mapping[0],lat))\n",
    "\n",
    "lon = list(mapping[-2])\n",
    "lon /= max(lon)\n",
    "lon *= 360\n",
    "lon -= 180\n",
    "lon = dict(zip(mapping[0],lon))"
   ]
  },
  {
   "cell_type": "code",
   "execution_count": null,
   "metadata": {},
   "outputs": [],
   "source": []
  },
  {
   "cell_type": "code",
   "execution_count": 8,
   "metadata": {},
   "outputs": [],
   "source": [
    "# !pip install dash==1.18.1\n",
    "# !pip install dash-leaflet==0.1.12\n",
    "# !pip install dash-extensions==0.0.41"
   ]
  },
  {
   "cell_type": "code",
   "execution_count": 52,
   "metadata": {},
   "outputs": [
    {
     "data": {
      "text/plain": [
       "(                                   132      300      86       72       307  \\\n",
       " UKCA_FASTJX_MOD:UKCA_FASTJX@1  348.326  343.868  359.904  361.118  337.663   \n",
       " UKCA_FASTJX_MOD:UKCA_FASTJX@1  230.353  221.553  242.489  244.955  219.104   \n",
       " UKCA_FASTJX_MOD:UKCA_FASTJX@1  118.996  111.812  127.544  125.749  111.041   \n",
       " \n",
       "                                    135      75       81       338      331  \\\n",
       " UKCA_FASTJX_MOD:UKCA_FASTJX@1  355.383  363.587  356.385  340.166  332.142   \n",
       " UKCA_FASTJX_MOD:UKCA_FASTJX@1  239.810  245.528  243.576  225.628  224.536   \n",
       " UKCA_FASTJX_MOD:UKCA_FASTJX@1  118.680  121.931  125.225  112.741  112.351   \n",
       " \n",
       "                                ...      343      171      185      31   \\\n",
       " UKCA_FASTJX_MOD:UKCA_FASTJX@1  ...  333.225  335.618  335.174  301.458   \n",
       " UKCA_FASTJX_MOD:UKCA_FASTJX@1  ...  222.634  221.683  226.488  209.858   \n",
       " UKCA_FASTJX_MOD:UKCA_FASTJX@1  ...  109.494  113.359  110.601  103.895   \n",
       " \n",
       "                                    388      182      176      344      36   \\\n",
       " UKCA_FASTJX_MOD:UKCA_FASTJX@1  328.716  333.618  332.343  325.804  317.964   \n",
       " UKCA_FASTJX_MOD:UKCA_FASTJX@1  217.269  225.797  228.389  223.283  212.362   \n",
       " UKCA_FASTJX_MOD:UKCA_FASTJX@1  107.747  114.418  111.739  109.251  108.626   \n",
       " \n",
       "                                    149  \n",
       " UKCA_FASTJX_MOD:UKCA_FASTJX@1  348.854  \n",
       " UKCA_FASTJX_MOD:UKCA_FASTJX@1  236.294  \n",
       " UKCA_FASTJX_MOD:UKCA_FASTJX@1  116.408  \n",
       " \n",
       " [3 rows x 504 columns],\n",
       " 374.994)"
      ]
     },
     "execution_count": 52,
     "metadata": {},
     "output_type": "execute_result"
    }
   ],
   "source": [
    "\n",
    "'''\n",
    "UKCA_FASTJX_MOD:FASTJX_SET_ARRAYS@1\n",
    "UKCA_FASTJX_MOD:UKCA_FASTJX@1\n",
    "'''\n",
    "\n",
    "group = pd.concat([cycl.filterMOD('UKCA_FASTJX_MOD:UKCA_FASTJX@1','total') for cycl in cycles]).astype(float)\n",
    "\n",
    "mx = np.max(group).max()\n",
    "mn = np.min(group).min()\n",
    "rg = mx-mn\n",
    "\n",
    "\n",
    "group,mx\n",
    "\n",
    "# self.filterMOD('UKCA_FASTJX_MOD','total')\n",
    "\n",
    "\n",
    "\n",
    "\n"
   ]
  },
  {
   "cell_type": "code",
   "execution_count": 62,
   "metadata": {},
   "outputs": [],
   "source": [
    "import dash_html_components as html\n",
    "import dash_leaflet as dl\n",
    "import dash_leaflet.express as dlx\n",
    "from dash import Dash\n",
    "\n",
    "\n",
    "markers = [ ]\n",
    "\n",
    "for i in group.columns:\n",
    "    x = lon[i]\n",
    "    y = lat[i]\n",
    "    for j,c in zip(group[i].values,'red blue green'.split()):\n",
    "        markers.append(dl.CircleMarker(center=[y,x],radius = 6*((j-mn)/rg), color=c))\n",
    "\n",
    "\n",
    "\n",
    "url = 'https://tiles.stadiamaps.com/tiles/alidade_smooth_dark/{z}/{x}/{y}{r}.png'\n",
    "attribution = '&copy; <a href=\"https://stadiamaps.com/\">Stadia Maps</a> '\n"
   ]
  },
  {
   "cell_type": "code",
   "execution_count": 63,
   "metadata": {},
   "outputs": [
    {
     "name": "stdout",
     "output_type": "stream",
     "text": [
      "Dash is running on http://127.0.0.1:8050/\n",
      "\n",
      "Dash is running on http://127.0.0.1:8050/\n",
      "\n",
      "Dash is running on http://127.0.0.1:8050/\n",
      "\n",
      "Dash is running on http://127.0.0.1:8050/\n",
      "\n",
      " * Serving Flask app \"__main__\" (lazy loading)\n",
      " * Environment: production\n",
      "\u001b[31m   WARNING: This is a development server. Do not use it in a production deployment.\u001b[0m\n",
      "\u001b[2m   Use a production WSGI server instead.\u001b[0m\n",
      " * Debug mode: off\n"
     ]
    },
    {
     "name": "stderr",
     "output_type": "stream",
     "text": [
      " * Running on http://127.0.0.1:8050/ (Press CTRL+C to quit)\n",
      "127.0.0.1 - - [29/Apr/2021 01:18:55] \"\u001b[37mGET / HTTP/1.1\u001b[0m\" 200 -\n",
      "127.0.0.1 - - [29/Apr/2021 01:18:55] \"\u001b[37mGET /_dash-dependencies HTTP/1.1\u001b[0m\" 200 -\n",
      "127.0.0.1 - - [29/Apr/2021 01:18:55] \"\u001b[37mGET /_dash-layout HTTP/1.1\u001b[0m\" 200 -\n"
     ]
    }
   ],
   "source": [
    "\n",
    "\n",
    "app = Dash()\n",
    "\n",
    "\n",
    "app.layout = html.Div(dl.Map([\n",
    "    dl.LayersControl(\n",
    "        [dl.TileLayer(url=url, maxZoom=20, attribution=attribution),dl.Overlay(dl.LayerGroup(markers), name=\"markers\", checked=True)]\n",
    "    )\n",
    "], zoom=4, center=(56, 10)), style={'width': '100vw', 'height': '100vh', 'margin': \"auto\", \"display\": \"block\"})\n",
    "# ?\n",
    "if __name__ == '__main__':\n",
    "    app.run_server()"
   ]
  },
  {
   "cell_type": "code",
   "execution_count": null,
   "metadata": {},
   "outputs": [],
   "source": []
  },
  {
   "cell_type": "code",
   "execution_count": null,
   "metadata": {},
   "outputs": [],
   "source": []
  }
 ],
 "metadata": {
  "kernelspec": {
   "display_name": "Python 3",
   "language": "python",
   "name": "python3"
  },
  "language_info": {
   "codemirror_mode": {
    "name": "ipython",
    "version": 3
   },
   "file_extension": ".py",
   "mimetype": "text/x-python",
   "name": "python",
   "nbconvert_exporter": "python",
   "pygments_lexer": "ipython3",
   "version": "3.8.6"
  }
 },
 "nbformat": 4,
 "nbformat_minor": 4
}
