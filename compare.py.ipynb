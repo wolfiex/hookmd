{
 "cells": [
  {
   "cell_type": "code",
   "execution_count": 16,
   "metadata": {},
   "outputs": [],
   "source": [
    "import glob\n",
    "import pandas as pd\n",
    "__data__='./hookfiles_u-ce220unknown_date'"
   ]
  },
  {
   "cell_type": "code",
   "execution_count": 2,
   "metadata": {},
   "outputs": [],
   "source": [
    "import hookpanel as hp\n",
    "import grid"
   ]
  },
  {
   "cell_type": "code",
   "execution_count": 3,
   "metadata": {},
   "outputs": [
    {
     "data": {
      "text/plain": [
       "['./hookfiles_u-ce220unknown_date/19790301T0000Z/atmos_main',\n",
       " './hookfiles_u-ce220unknown_date/19790201T0000Z/atmos_main',\n",
       " './hookfiles_u-ce220unknown_date/19790101T0000Z/atmos_main']"
      ]
     },
     "execution_count": 3,
     "metadata": {},
     "output_type": "execute_result"
    }
   ],
   "source": [
    "files = glob.glob(__data__+'/*/atmos_main')\n",
    "files"
   ]
  },
  {
   "cell_type": "code",
   "execution_count": 4,
   "metadata": {},
   "outputs": [
    {
     "name": "stdout",
     "output_type": "stream",
     "text": [
      "./hookfiles_u-ce220unknown_date/19790301T0000Z/atmos_main/*drhook.prof.*\n",
      "Time taken to create panel 0.15s\n",
      "./hookfiles_u-ce220unknown_date/19790201T0000Z/atmos_main/*drhook.prof.*\n",
      "Time taken to create panel 0.14s\n",
      "./hookfiles_u-ce220unknown_date/19790101T0000Z/atmos_main/*drhook.prof.*\n",
      "Time taken to create panel 0.13s\n"
     ]
    }
   ],
   "source": [
    "cycles = [hp.HookPanel(i+'/*') for i in files]\n",
    "# parallel"
   ]
  },
  {
   "cell_type": "code",
   "execution_count": 5,
   "metadata": {},
   "outputs": [
    {
     "data": {
      "text/plain": [
       "array([[  1,   2,   3, ..., 502, 503, 504],\n",
       "       [  0,  21,  42, ..., 441, 462, 483],\n",
       "       [ 21,  42,  63, ..., 462, 483, 504],\n",
       "       ...,\n",
       "       [  7,   7,   7, ..., 144, 144, 144],\n",
       "       [ 10,  31,  52, ..., 451, 472, 493],\n",
       "       [  3,   3,   3, ..., 141, 141, 141]], dtype=int32)"
      ]
     },
     "execution_count": 5,
     "metadata": {},
     "output_type": "execute_result"
    }
   ],
   "source": [
    "mapping = grid.get_decomp(__data__)\n",
    "mapping"
   ]
  },
  {
   "cell_type": "markdown",
   "metadata": {},
   "source": [
    "maping 3:4    proc i \n",
    "mapping 1:2   proc i\n"
   ]
  },
  {
   "cell_type": "code",
   "execution_count": 6,
   "metadata": {},
   "outputs": [
    {
     "data": {
      "text/plain": [
       "matrix([[504],\n",
       "        [483],\n",
       "        [504],\n",
       "        [138],\n",
       "        [144],\n",
       "        [493],\n",
       "        [141]], dtype=int32)"
      ]
     },
     "execution_count": 6,
     "metadata": {},
     "output_type": "execute_result"
    }
   ],
   "source": [
    "import numpy as np\n",
    "np.matrix(mapping).max(axis=1)"
   ]
  },
  {
   "cell_type": "code",
   "execution_count": 41,
   "metadata": {},
   "outputs": [],
   "source": [
    "lat = list(mapping[-1])\n",
    "lat /= max(lat)\n",
    "lat *= 180\n",
    "lat -= 90\n",
    "lat = dict(zip(mapping[0],lat))\n",
    "\n",
    "lon = list(mapping[-2])\n",
    "lon /= max(lon)\n",
    "lon *= 360\n",
    "lon -= 180\n",
    "lon = dict(zip(mapping[0],lon))"
   ]
  },
  {
   "cell_type": "code",
   "execution_count": 95,
   "metadata": {},
   "outputs": [
    {
     "data": {
      "text/plain": [
       "dict_keys(['#', '%', 'Cumulative', 'self', 'total', '#calls', 'callself', 'calltotal'])"
      ]
     },
     "execution_count": 95,
     "metadata": {},
     "output_type": "execute_result"
    }
   ],
   "source": [
    "cycles[1].all.keys()\n",
    "\n",
    "# .get_mod()"
   ]
  },
  {
   "cell_type": "code",
   "execution_count": 8,
   "metadata": {},
   "outputs": [],
   "source": [
    "# !pip install dash==1.18.1\n",
    "# !pip install dash-leaflet==0.1.12\n",
    "# !pip install dash-extensions==0.0.41"
   ]
  },
  {
   "cell_type": "code",
   "execution_count": 109,
   "metadata": {},
   "outputs": [
    {
     "data": {
      "text/html": [
       "<div>\n",
       "<style scoped>\n",
       "    .dataframe tbody tr th:only-of-type {\n",
       "        vertical-align: middle;\n",
       "    }\n",
       "\n",
       "    .dataframe tbody tr th {\n",
       "        vertical-align: top;\n",
       "    }\n",
       "\n",
       "    .dataframe thead th {\n",
       "        text-align: right;\n",
       "    }\n",
       "</style>\n",
       "<table border=\"1\" class=\"dataframe\">\n",
       "  <thead>\n",
       "    <tr style=\"text-align: right;\">\n",
       "      <th></th>\n",
       "      <th>132</th>\n",
       "      <th>300</th>\n",
       "      <th>86</th>\n",
       "      <th>72</th>\n",
       "      <th>307</th>\n",
       "      <th>135</th>\n",
       "      <th>75</th>\n",
       "      <th>81</th>\n",
       "      <th>338</th>\n",
       "      <th>331</th>\n",
       "      <th>...</th>\n",
       "      <th>343</th>\n",
       "      <th>171</th>\n",
       "      <th>185</th>\n",
       "      <th>31</th>\n",
       "      <th>388</th>\n",
       "      <th>182</th>\n",
       "      <th>176</th>\n",
       "      <th>344</th>\n",
       "      <th>36</th>\n",
       "      <th>149</th>\n",
       "    </tr>\n",
       "  </thead>\n",
       "  <tbody>\n",
       "    <tr>\n",
       "      <th>UKCA_FASTJX_MOD:UKCA_FASTJX@1</th>\n",
       "      <td>0.38</td>\n",
       "      <td>0.37</td>\n",
       "      <td>0.37</td>\n",
       "      <td>0.37</td>\n",
       "      <td>0.37</td>\n",
       "      <td>0.38</td>\n",
       "      <td>0.38</td>\n",
       "      <td>0.38</td>\n",
       "      <td>0.38</td>\n",
       "      <td>0.37</td>\n",
       "      <td>...</td>\n",
       "      <td>0.37</td>\n",
       "      <td>0.38</td>\n",
       "      <td>0.37</td>\n",
       "      <td>0.32</td>\n",
       "      <td>0.38</td>\n",
       "      <td>0.38</td>\n",
       "      <td>0.38</td>\n",
       "      <td>0.38</td>\n",
       "      <td>0.32</td>\n",
       "      <td>0.37</td>\n",
       "    </tr>\n",
       "    <tr>\n",
       "      <th>UKCA_FASTJX_MOD:UKCA_FASTJX@1</th>\n",
       "      <td>0.38</td>\n",
       "      <td>0.37</td>\n",
       "      <td>0.37</td>\n",
       "      <td>0.37</td>\n",
       "      <td>0.37</td>\n",
       "      <td>0.37</td>\n",
       "      <td>0.38</td>\n",
       "      <td>0.37</td>\n",
       "      <td>0.38</td>\n",
       "      <td>0.38</td>\n",
       "      <td>...</td>\n",
       "      <td>0.38</td>\n",
       "      <td>0.38</td>\n",
       "      <td>0.38</td>\n",
       "      <td>0.32</td>\n",
       "      <td>0.37</td>\n",
       "      <td>0.38</td>\n",
       "      <td>0.37</td>\n",
       "      <td>0.38</td>\n",
       "      <td>0.33</td>\n",
       "      <td>0.38</td>\n",
       "    </tr>\n",
       "    <tr>\n",
       "      <th>UKCA_FASTJX_MOD:UKCA_FASTJX@1</th>\n",
       "      <td>0.37</td>\n",
       "      <td>0.38</td>\n",
       "      <td>0.38</td>\n",
       "      <td>0.37</td>\n",
       "      <td>0.37</td>\n",
       "      <td>0.37</td>\n",
       "      <td>0.38</td>\n",
       "      <td>0.37</td>\n",
       "      <td>0.38</td>\n",
       "      <td>0.37</td>\n",
       "      <td>...</td>\n",
       "      <td>0.37</td>\n",
       "      <td>0.37</td>\n",
       "      <td>0.37</td>\n",
       "      <td>0.32</td>\n",
       "      <td>0.38</td>\n",
       "      <td>0.37</td>\n",
       "      <td>0.37</td>\n",
       "      <td>0.38</td>\n",
       "      <td>0.33</td>\n",
       "      <td>0.38</td>\n",
       "    </tr>\n",
       "  </tbody>\n",
       "</table>\n",
       "<p>3 rows × 504 columns</p>\n",
       "</div>"
      ],
      "text/plain": [
       "                                132   300   86    72    307   135   75    81   \\\n",
       "UKCA_FASTJX_MOD:UKCA_FASTJX@1  0.38  0.37  0.37  0.37  0.37  0.38  0.38  0.38   \n",
       "UKCA_FASTJX_MOD:UKCA_FASTJX@1  0.38  0.37  0.37  0.37  0.37  0.37  0.38  0.37   \n",
       "UKCA_FASTJX_MOD:UKCA_FASTJX@1  0.37  0.38  0.38  0.37  0.37  0.37  0.38  0.37   \n",
       "\n",
       "                                338   331  ...   343   171   185   31    388  \\\n",
       "UKCA_FASTJX_MOD:UKCA_FASTJX@1  0.38  0.37  ...  0.37  0.38  0.37  0.32  0.38   \n",
       "UKCA_FASTJX_MOD:UKCA_FASTJX@1  0.38  0.38  ...  0.38  0.38  0.38  0.32  0.37   \n",
       "UKCA_FASTJX_MOD:UKCA_FASTJX@1  0.38  0.37  ...  0.37  0.37  0.37  0.32  0.38   \n",
       "\n",
       "                                182   176   344   36    149  \n",
       "UKCA_FASTJX_MOD:UKCA_FASTJX@1  0.38  0.38  0.38  0.32  0.37  \n",
       "UKCA_FASTJX_MOD:UKCA_FASTJX@1  0.38  0.37  0.38  0.33  0.38  \n",
       "UKCA_FASTJX_MOD:UKCA_FASTJX@1  0.37  0.37  0.38  0.33  0.38  \n",
       "\n",
       "[3 rows x 504 columns]"
      ]
     },
     "execution_count": 109,
     "metadata": {},
     "output_type": "execute_result"
    }
   ],
   "source": [
    "\n",
    "'''\n",
    "UKCA_FASTJX_MOD:FASTJX_SET_ARRAYS@1\n",
    "UKCA_FASTJX_MOD:UKCA_FASTJX@1\n",
    "'''\n",
    "\n",
    "mod = 'UKCA_FASTJX_MOD:UKCA_FASTJX@1'\n",
    "# mod = 'UKCA_FASTJX_MOD:FASTJX_SET_ARRAYS@1'\n",
    "# mod = 'ATMOS_UKCA_MOD'\n",
    "\n",
    "\n",
    "''' \n",
    "Otherwise times are cumulative... \n",
    "So use CALLSELF\n",
    "'''\n",
    "\n",
    "group = pd.concat([cycl.filterMOD(mod,'callself') for cycl in cycles]).astype(float)\n",
    "\n",
    "mx = np.max(group).max()\n",
    "mn = np.min(group).min()\n",
    "rg = mx-mn\n",
    "\n",
    "\n",
    "\n",
    "# self.filterMOD('UKCA_FASTJX_MOD','total')\n",
    "\n",
    "group\n",
    "\n",
    "\n",
    "\n",
    "\n"
   ]
  },
  {
   "cell_type": "code",
   "execution_count": 115,
   "metadata": {},
   "outputs": [],
   "source": [
    "import dash_html_components as html\n",
    "import dash_leaflet as dl\n",
    "import dash_leaflet.express as dlx\n",
    "from dash import Dash\n",
    "\n",
    "\n",
    "markers = [dl.CircleMarker(center=[0,0],radius = 1, color='white') ]\n",
    "\n",
    "for i in group.columns:\n",
    "    x = lon[i]\n",
    "    y = lat[i]\n",
    "    for j,c in zip(group[i].values,'red blue lime'.split()):\n",
    "        markers.append(dl.CircleMarker(center=[y,x],\n",
    "                                       radius = 6*(0.001+(j-mn)/rg), color=c, weight=1,fillOpacity=0))\n",
    "\n",
    "\n",
    "\n",
    "url = 'https://tiles.stadiamaps.com/tiles/alidade_smooth_dark/{z}/{x}/{y}{r}.png'\n",
    "attribution = '&copy; <a href=\"https://stadiamaps.com/\">Stadia Maps</a> '\n"
   ]
  },
  {
   "cell_type": "code",
   "execution_count": null,
   "metadata": {},
   "outputs": [
    {
     "name": "stdout",
     "output_type": "stream",
     "text": [
      "Dash is running on http://127.0.0.1:8050/\n",
      "\n",
      "Dash is running on http://127.0.0.1:8050/\n",
      "\n",
      "Dash is running on http://127.0.0.1:8050/\n",
      "\n",
      "Dash is running on http://127.0.0.1:8050/\n",
      "\n",
      "Dash is running on http://127.0.0.1:8050/\n",
      "\n",
      "Dash is running on http://127.0.0.1:8050/\n",
      "\n",
      "Dash is running on http://127.0.0.1:8050/\n",
      "\n",
      "Dash is running on http://127.0.0.1:8050/\n",
      "\n",
      "Dash is running on http://127.0.0.1:8050/\n",
      "\n",
      "Dash is running on http://127.0.0.1:8050/\n",
      "\n",
      "Dash is running on http://127.0.0.1:8050/\n",
      "\n",
      "Dash is running on http://127.0.0.1:8050/\n",
      "\n",
      "Dash is running on http://127.0.0.1:8050/\n",
      "\n",
      "Dash is running on http://127.0.0.1:8050/\n",
      "\n",
      "Dash is running on http://127.0.0.1:8050/\n",
      "\n",
      " * Serving Flask app \"__main__\" (lazy loading)\n",
      " * Environment: production\n",
      "\u001b[31m   WARNING: This is a development server. Do not use it in a production deployment.\u001b[0m\n",
      "\u001b[2m   Use a production WSGI server instead.\u001b[0m\n",
      " * Debug mode: off\n"
     ]
    },
    {
     "name": "stderr",
     "output_type": "stream",
     "text": [
      " * Running on http://127.0.0.1:8050/ (Press CTRL+C to quit)\n",
      "127.0.0.1 - - [29/Apr/2021 01:36:36] \"\u001b[37mGET / HTTP/1.1\u001b[0m\" 200 -\n",
      "127.0.0.1 - - [29/Apr/2021 01:36:36] \"\u001b[37mGET /_dash-dependencies HTTP/1.1\u001b[0m\" 200 -\n",
      "127.0.0.1 - - [29/Apr/2021 01:36:36] \"\u001b[37mGET /_dash-layout HTTP/1.1\u001b[0m\" 200 -\n"
     ]
    }
   ],
   "source": [
    "\n",
    "\n",
    "app = Dash()\n",
    "\n",
    "\n",
    "app.layout = html.Div(dl.Map([\n",
    "    dl.LayersControl(\n",
    "        [dl.TileLayer(url=url, maxZoom=20, attribution=attribution),dl.Overlay(dl.LayerGroup(markers), name=\"markers\", checked=True)]\n",
    "    )\n",
    "], zoom=4, center=(56, 10)), style={'width': '100vw', 'height': '100vh', 'margin': \"auto\", \"display\": \"block\"})\n",
    "# ?\n",
    "if __name__ == '__main__':\n",
    "    app.run_server()"
   ]
  },
  {
   "cell_type": "code",
   "execution_count": null,
   "metadata": {},
   "outputs": [],
   "source": []
  },
  {
   "cell_type": "code",
   "execution_count": null,
   "metadata": {},
   "outputs": [],
   "source": []
  }
 ],
 "metadata": {
  "kernelspec": {
   "display_name": "Python 3",
   "language": "python",
   "name": "python3"
  },
  "language_info": {
   "codemirror_mode": {
    "name": "ipython",
    "version": 3
   },
   "file_extension": ".py",
   "mimetype": "text/x-python",
   "name": "python",
   "nbconvert_exporter": "python",
   "pygments_lexer": "ipython3",
   "version": "3.8.6"
  }
 },
 "nbformat": 4,
 "nbformat_minor": 4
}
